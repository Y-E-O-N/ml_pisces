{
 "cells": [
  {
   "cell_type": "code",
   "execution_count": null,
   "metadata": {},
   "outputs": [],
   "source": [
    "import pandas as pd\n",
    "import matplotlib.pyplot as plt\n",
    "import koreanize_matplotlib\n",
    "import yfinance as yf\n",
    "import requests\n",
    "from bs4 import BeautifulSoup\n",
    "import matplotlib.dates as mdates"
   ]
  },
  {
   "cell_type": "code",
   "execution_count": null,
   "metadata": {},
   "outputs": [],
   "source": [
    "file_path = \"../data/raw/minimun_wage.csv\"\n",
    "# 인코딩을 'euc-kr'로 설정하여 파일 읽기\n",
    "df = pd.read_csv(file_path, encoding='euc-kr')\n",
    "\n",
    "# 1️⃣ '적용연도'를 datetime 형식으로 변환\n",
    "df['적용연도(1년 지속)'] = pd.to_datetime(df['적용연도(1년 지속)'])\n",
    "\n",
    "# 2️⃣ 시각화\n",
    "plt.figure(figsize=(12, 6))\n",
    "plt.plot(df['적용연도(1년 지속)'], df['시간급'], marker='o', color='green', linestyle='-', linewidth=2)\n",
    "plt.title('연도별 시간급 변화')\n",
    "plt.xlabel('적용연도')\n",
    "plt.ylabel('시간급 (원)')\n",
    "plt.gca().invert_yaxis()\n",
    "plt.grid(True)\n",
    "plt.xticks(rotation=45)  # X축 라벨 회전\n",
    "plt.show()"
   ]
  },
  {
   "cell_type": "code",
   "execution_count": null,
   "metadata": {},
   "outputs": [],
   "source": [
    "# 1️⃣ WTI Crude Oil 티커(symbol) 설정\n",
    "oil_data = yf.download('CL=F', start='2020-01-01', end='2025-01-12')\n",
    "\n",
    "# 2️⃣ 'Close' 가격을 기준으로 시각화\n",
    "plt.figure(figsize=(15, 6))\n",
    "plt.plot(oil_data.index, oil_data['Close'], color='orange', linewidth=2)\n",
    "plt.title('WTI Crude Oil 선물가격 (2020-현재)')\n",
    "plt.xlabel('날짜')\n",
    "plt.ylabel('가격 USD')\n",
    "plt.grid(True)\n",
    "plt.xticks(rotation=45)\n",
    "plt.show()"
   ]
  },
  {
   "cell_type": "code",
   "execution_count": null,
   "metadata": {},
   "outputs": [],
   "source": [
    "# 1️⃣ USD/KRW 환율 데이터 가져오기\n",
    "krw_usd = yf.download('KRW=X', start='2020-01-01', end='2025-01-12')\n",
    "\n",
    "# 2️⃣ 'Close' 가격을 기준으로 시각화\n",
    "plt.figure(figsize=(15, 6))\n",
    "plt.plot(krw_usd.index, krw_usd['Close'], color='blue', linewidth=2)\n",
    "plt.title('USD/KRW 환율 (2020-Present)')\n",
    "plt.xlabel('Date')\n",
    "plt.ylabel('Exchange Rate (KRW per USD)')\n",
    "plt.grid(True)\n",
    "plt.xticks(rotation=45)\n",
    "plt.show()"
   ]
  },
  {
   "cell_type": "code",
   "execution_count": null,
   "metadata": {},
   "outputs": [],
   "source": [
    "import requests\n",
    "from bs4 import BeautifulSoup\n",
    "import pandas as pd\n",
    "\n",
    "# WTO Tariff Database URL\n",
    "url = 'https://www.wto.org/english/res_e/statis_e/statis_e.htm'\n",
    "\n",
    "# 요청 보내기\n",
    "response = requests.get(url)\n",
    "soup = BeautifulSoup(response.text, 'html.parser')\n",
    "\n",
    "# 데이터 추출 (예제)\n",
    "tables = soup.find_all('table')\n",
    "\n",
    "# 테이블을 데이터프레임으로 변환\n",
    "data = []\n",
    "for table in tables:\n",
    "    rows = table.find_all('tr')\n",
    "    for row in rows:\n",
    "        cols = [col.text.strip() for col in row.find_all('td')]\n",
    "        if cols:\n",
    "            data.append(cols)\n",
    "\n",
    "# 데이터프레임 생성\n",
    "df = pd.DataFrame(data)\n",
    "print(df.head())"
   ]
  },
  {
   "cell_type": "code",
   "execution_count": null,
   "metadata": {},
   "outputs": [],
   "source": []
  }
 ],
 "metadata": {
  "kernelspec": {
   "display_name": "env311_conda",
   "language": "python",
   "name": "python3"
  },
  "language_info": {
   "codemirror_mode": {
    "name": "ipython",
    "version": 3
   },
   "file_extension": ".py",
   "mimetype": "text/x-python",
   "name": "python",
   "nbconvert_exporter": "python",
   "pygments_lexer": "ipython3",
   "version": "3.11.11"
  }
 },
 "nbformat": 4,
 "nbformat_minor": 2
}
