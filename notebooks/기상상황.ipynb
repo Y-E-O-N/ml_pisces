{
 "cells": [
  {
   "cell_type": "code",
   "execution_count": null,
   "metadata": {},
   "outputs": [],
   "source": [
    "import pandas as pd\n",
    "import matplotlib.pyplot as plt\n",
    "import seaborn as sns\n",
    "import koreanize_matplotlib\n",
    "from bs4 import BeautifulSoup\n",
    "import requests\n",
    "import glob"
   ]
  },
  {
   "cell_type": "code",
   "execution_count": null,
   "metadata": {},
   "outputs": [],
   "source": [
    "# # 파일 경로 패턴 설정 (여기서는 forecast_*.csv 파일만 가져옴)\n",
    "# file_list = glob.glob('../data/raw/forecast_*.csv')\n",
    "\n",
    "# # 모든 파일을 읽어서 하나의 데이터프레임으로 합치기\n",
    "# df_list = [pd.read_csv(file, encoding='euc-kr') for file in file_list]\n",
    "# forecast_df = pd.concat(df_list, ignore_index=True)\n",
    "\n",
    "# # CSV 파일로 저장\n",
    "# forecast_df.to_csv('../data/processed/forecast_merged2.csv', index=False)\n"
   ]
  },
  {
   "cell_type": "code",
   "execution_count": null,
   "metadata": {},
   "outputs": [],
   "source": [
    "# 파일 경로 설정\n",
    "file_path = '../data/processed/forecast_merged2.csv'\n",
    "forecast_df = pd.read_csv(file_path)\n",
    "\n",
    "\n",
    "#일시 데이트타임 적용\n",
    "forecast_df['일시'] = pd.to_datetime(forecast_df['일시'])\n",
    "forecast_df['연도'] = forecast_df['일시'].dt.year\n",
    "forecast_df['월'] = forecast_df['일시'].dt.month\n",
    "forecast_df['일'] = forecast_df['일시'].dt.day\n",
    "forecast_df['시간'] = forecast_df['일시'].dt.hour\n",
    "forecast_df['요일'] = forecast_df['일시'].dt.day_name().str[:3]\n",
    "\n",
    "# 결측치 제거\n",
    "forecast_df.fillna(0, inplace=True)\n",
    "\n",
    "#데이터 타입 숫자인지 확인????\n",
    "numeric_columns = forecast_df.select_dtypes(include=['float64', 'int64']).columns\n",
    "forecast_df[numeric_columns] = forecast_df[numeric_columns].apply(pd.to_numeric, errors='coerce')\n",
    "\n",
    "\n",
    "# 결과 확인\n",
    "forecast_df.head(-5)"
   ]
  },
  {
   "cell_type": "code",
   "execution_count": null,
   "metadata": {},
   "outputs": [],
   "source": [
    "# 실시간 추가(셀레니움?) -- 강사님께 제지당함\n",
    "\n",
    "# url = 'https://data.kma.go.kr/data/sea/selectBuoyRltmList.do?pgmNo=52'\n",
    "\n",
    "# # 2️⃣ HTTP 요청을 보내서 웹 페이지 가져오기\n",
    "# response = requests.get(url)\n",
    "\n",
    "# # 3️⃣ BeautifulSoup을 사용해 HTML 파싱\n",
    "# soup = BeautifulSoup(response.text, 'html.parser')\n",
    "\n",
    "# # 4️⃣ 원하는 데이터 추출 (예: 모든 제목 태그 <h1>)\n",
    "# titles = soup.find_all('h1')\n",
    "\n",
    "# # 5️⃣ 추출한 데이터를 출력\n",
    "# for title in titles:\n",
    "#     print(title.get_text())"
   ]
  },
  {
   "cell_type": "code",
   "execution_count": null,
   "metadata": {},
   "outputs": [],
   "source": [
    "# 1️⃣ 지점 22105 데이터 필터링 (2020년 1월 1일부터 2025년 1월 12일까지)\n",
    "filtered_df = forecast_df[(forecast_df['지점'] == 22105) & (forecast_df['일시'] >= '2020-01-01') & (forecast_df['일시'] <= '2025-01-12')]\n",
    "\n",
    "# 2️⃣ '일시'를 인덱스로 설정\n",
    "filtered_df.set_index('일시', inplace=True)\n",
    "\n",
    "# 3️⃣ 기온 변화 시각화\n",
    "plt.figure(figsize=(15, 6))\n",
    "plt.plot(filtered_df.index, filtered_df['기온(°C)'], color='orange', linestyle='-', marker='o', markersize=2)\n",
    "plt.title('지점 22105 - 2020년 1월 1일부터 2025년 1월 12일까지 기온 변화')\n",
    "plt.xlabel('일자')\n",
    "plt.ylabel('기온(°C)')\n",
    "plt.grid(True)\n",
    "plt.xticks(rotation=45)\n",
    "plt.show()\n",
    "\n",
    "# 4️⃣ 수온 변화 시각화\n",
    "plt.figure(figsize=(15, 6))\n",
    "plt.plot(filtered_df.index, filtered_df['수온(°C)'], color='blue', linestyle='-', marker='o', markersize=2)\n",
    "plt.title('지점 22105 - 2020년 1월 1일부터 2025년 1월 12일까지 수온 변화')\n",
    "plt.xlabel('일자')\n",
    "plt.ylabel('수온(°C)')\n",
    "plt.grid(True)\n",
    "plt.xticks(rotation=45)\n",
    "plt.show()\n",
    "\n",
    "\n",
    "plt.figure(figsize=(12, 6))\n",
    "yearly_temp = forecast_df.groupby('연도')['수온(°C)'].mean()\n",
    "plt.plot(yearly_temp.index, yearly_temp.values, marker='o', color='blue')\n",
    "plt.title('연도별 평균 수온 변화')\n",
    "plt.xlabel('연도')\n",
    "plt.ylabel('수온(°C)')\n",
    "plt.grid(True)\n",
    "plt.show()\n",
    "\n",
    "plt.figure(figsize=(12, 6))\n",
    "hourly_wave = forecast_df.groupby('연도')['평균파고(m)'].mean()\n",
    "plt.plot(hourly_wave.index, hourly_wave.values, marker='o', color='green')\n",
    "plt.title('연도별 평균파고 변화')\n",
    "plt.xlabel('연도')\n",
    "plt.ylabel('평균균파고(m)')\n",
    "plt.grid(True)\n",
    "plt.show()"
   ]
  },
  {
   "cell_type": "code",
   "execution_count": null,
   "metadata": {},
   "outputs": [],
   "source": [
    "Z"
   ]
  }
 ],
 "metadata": {
  "kernelspec": {
   "display_name": "env311_conda",
   "language": "python",
   "name": "python3"
  },
  "language_info": {
   "codemirror_mode": {
    "name": "ipython",
    "version": 3
   },
   "file_extension": ".py",
   "mimetype": "text/x-python",
   "name": "python",
   "nbconvert_exporter": "python",
   "pygments_lexer": "ipython3",
   "version": "3.11.11"
  }
 },
 "nbformat": 4,
 "nbformat_minor": 2
}
