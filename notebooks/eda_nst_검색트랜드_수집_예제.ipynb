{
 "cells": [
  {
   "cell_type": "code",
   "execution_count": null,
   "metadata": {},
   "outputs": [],
   "source": [
    "import sys\n",
    "import os\n",
    "current_dir = os.getcwd()\n",
    "sys.path.append(current_dir)  # 루트 디렉터리 경로 추가  # .py\n",
    "sys.path.append(os.path.dirname(current_dir))  # 상위 디렉터리 경로 추가  # .ipynb\n",
    "\n",
    "from src.crawling.nst_item_search import *\n",
    "import pandas as pd"
   ]
  },
  {
   "cell_type": "code",
   "execution_count": null,
   "metadata": {},
   "outputs": [],
   "source": [
    "# 네이버 트렌드 데이터 수집 진행\n",
    "\n",
    "\n",
    "# 게임 리스트\n",
    "game_name_list = \"쿠키런킹덤, 던전앤파이터, 메이플스토리, 월드오브워크래프트, 블레이드앤소울, 마비노기, 리그오브레전드, 펜타스톰, 도타2, 브롤스타즈, 서든어택, 배틀그라운드, 오버워치, 발로란트, 클래시오브클랜, 클래시로얄, 스타크래프트, 피파온라인, 피파23, 캔디크러쉬사가, 마인크래프트, 로블록스, 카트라이더, 테일즈런너, 크레이지아케이드, 모여봐요동물의숲, 모두의마블, 포켓몬스터\".split(', ')\n",
    "\n",
    "# 1. URL 접속\n",
    "driver = webdriver.Chrome()\n",
    "\n",
    "url = \"https://datalab.naver.com/\"\n",
    "driver.get(url)                 # URL로 이동\n",
    "\n",
    "# 기본 옵션 설정\n",
    "\n",
    "# 범위 설정 (월 기준)\n",
    "select_dropdown_option(driver, \"timeDimensionTitle\", \"//li[contains(@class, '_item_month')]/a\")\n",
    "# # 범위 설정 (주 기준)\n",
    "# select_dropdown_option(driver, \"timeDimensionTitle\", \"//li[contains(@class, '_item_week')]/a\")\n",
    "\n",
    "# 시작 연월 설정\n",
    "select_dropdown_option(driver, \"startYear\", \"//div[@id='startYearDiv']//li[contains(@class, '_item_2023')]/a\")\n",
    "select_dropdown_option(driver, \"startMonth\", \"//div[@id='startMonthDiv']//li[contains(@class, '_item_01')]/a\")\n",
    "\n",
    "# 종료 연월 설정\n",
    "select_dropdown_option(driver, \"endYear\", \"//div[@id='endYearDiv']//li[contains(@class, '_item_2023')]/a\")\n",
    "select_dropdown_option(driver, \"endMonth\", \"//div[@id='endMonthDiv']//li[contains(@class, '_item_12')]/a\")\n",
    "\n",
    "# 연령 체크박스 정보\n",
    "age_info = {\n",
    "    '06_12': \"item_age_1\",\n",
    "    '13_18': \"item_age_2\",\n",
    "    '19_24': \"item_age_3\",\n",
    "    '25_29': \"item_age_4\",\n",
    "    '30_34': \"item_age_5\",\n",
    "    '35_39': \"item_age_6\"\n",
    "}\n",
    "\n",
    "trend_data = []\n",
    "for age in age_info:\n",
    "    for uncheck in age_info.values():  # 체크박스 초기화\n",
    "        toggle_checkbox(driver, uncheck, check=False)\n",
    "    toggle_checkbox(driver, age_info[age], check=True)\n",
    "    # for gt in game_trend_list:\n",
    "    #     input_keywords(driver, gt)  # 키워드 입력\n",
    "    for g in game_name_list[:2]:\n",
    "        if (age, g) in [(t['age'], t['name']) for t in trend_data]:\n",
    "            continue\n",
    "        input_keyword(driver, baseline_keyword=\"게임\", input_keyword=g+\",게임\")  # 키워드 입력\n",
    "        search_btn = driver.find_element(\n",
    "            By.CSS_SELECTOR,\n",
    "            \"#content > div._search_trend_wrapper > div.keyword_trend > div > div > form > fieldset > a, #content > div.section_keyword > div.keyword_trend > div.section_step > div.com_box_inner > form > fieldset > a\"\n",
    "        )\n",
    "        search_btn.click()  # 조회버튼 클릭\n",
    "        print(age, g, end=\"/\")\n",
    "        # print(gt)\n",
    "        time.sleep(2)\n",
    "        trend_score = extract_relative_trend_score(driver)\n",
    "        print(trend_score)\n",
    "        # for g, s in zip(gt, trend_score):\n",
    "        trend_data.append({\n",
    "            \"age\": age,\n",
    "            \"name\": g,\n",
    "            \"score\": trend_score\n",
    "        })\n"
   ]
  },
  {
   "cell_type": "code",
   "execution_count": null,
   "metadata": {},
   "outputs": [],
   "source": [
    "df_trend_data = pd.DataFrame(trend_data)\n",
    "df_trend_data['score'] = df_trend_data['score'] - 1\n",
    "# df_trend_data.to_csv(data_path + \"game_trend.csv\", index=False)\n",
    "df_trend_data"
   ]
  },
  {
   "cell_type": "markdown",
   "metadata": {},
   "source": [
    "### 데이터 분석 및 시각화\n"
   ]
  },
  {
   "cell_type": "code",
   "execution_count": null,
   "metadata": {},
   "outputs": [],
   "source": [
    "# df_trend_data = pd.read_csv(data_path + \"game_trend.csv\")\n",
    "# # df_trend_data.loc[df_trend_data[\"age\"] == \"_12\", \"age\"] = \"06_12\"\n",
    "df_trend_data.sort_values([\"name\", \"age\"])"
   ]
  }
 ],
 "metadata": {
  "kernelspec": {
   "display_name": "ml_practice",
   "language": "python",
   "name": "python3"
  },
  "language_info": {
   "codemirror_mode": {
    "name": "ipython",
    "version": 3
   },
   "file_extension": ".py",
   "mimetype": "text/x-python",
   "name": "python",
   "nbconvert_exporter": "python",
   "pygments_lexer": "ipython3",
   "version": "3.11.9"
  }
 },
 "nbformat": 4,
 "nbformat_minor": 2
}
