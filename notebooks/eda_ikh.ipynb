{
 "cells": [
  {
   "cell_type": "code",
   "execution_count": null,
   "metadata": {},
   "outputs": [],
   "source": [
    "import pandas as pd\n",
    "import matplotlib.pyplot as plt\n",
    "import seaborn as sns\n",
    "import koreanize_matplotlib\n",
    "from datetime import datetime, timedelta\n"
   ]
  },
  {
   "cell_type": "markdown",
   "metadata": {},
   "source": [
    "### 시장별 품목 확인\n",
    "#### 시장 선정 - 등록된 가게가 많은 곳\n",
    "데이터 구조: 지역 < 시장(market) < 가게(store)"
   ]
  },
  {
   "cell_type": "code",
   "execution_count": null,
   "metadata": {},
   "outputs": [],
   "source": [
    "file_path = \"../data/raw/ikh_store_meta_2025-01-13.csv\"\n",
    "df = pd.read_csv(file_path, dtype={\"store_id\": str})\n",
    "df\n"
   ]
  },
  {
   "cell_type": "code",
   "execution_count": null,
   "metadata": {},
   "outputs": [],
   "source": [
    "df_ref = df[~df.duplicated(subset=[\"store_id\"])]  # 중복 제거\n",
    "df_ref = df_ref[df_ref[\"comments\"] >= 100]\n",
    "market_counts = df_ref.groupby(\"market\").count()[\"store_id\"]\n",
    "\n",
    "# count 값이 5 이상인 market 필터링\n",
    "markets = market_counts[market_counts >= 5].sort_values(ascending=False)\n",
    "# print(markets, '\\ntotal:', markets.sum())\n",
    "df_ftd = df_ref[df_ref[\"market\"].isin(markets.index)]\n",
    "\n"
   ]
  },
  {
   "cell_type": "code",
   "execution_count": null,
   "metadata": {},
   "outputs": [],
   "source": [
    "plt.figure(figsize=(10, 6))\n",
    "markets.plot(kind=\"bar\", color=\"skyblue\", edgecolor=\"black\")\n",
    "plt.title(\"시장별 조건을 만족하는 가게 수\")\n",
    "plt.xlabel(\"시장\")\n",
    "plt.ylabel(\"가게 수\")\n",
    "plt.xticks(rotation=45)\n",
    "plt.grid(axis=\"y\", linestyle=\"--\", alpha=0.7)\n",
    "plt.tight_layout()\n",
    "plt.show()\n",
    "\n",
    "# Markets 데이터 총합 출력\n",
    "print(\"총 가게 수:\", markets.sum())"
   ]
  },
  {
   "cell_type": "markdown",
   "metadata": {},
   "source": [
    "시장 선정 - 리뷰가 100건 이상 등록된 가게가 5개 이상인 시장\n",
    "(리뷰가 많을수록 오래되고, 데이터가 많고, 인어교주해적단 가격 시스템을 잘 이해하고 있을 것이라고 가정)\n",
    "\n",
    "- 노량진 1층\n",
    "- 가락시장\n",
    "- 노량진 2층\n",
    "- 구리농수산물시장\n",
    "- 강서농수산물시장\n",
    "- 수원농수산물시장\n",
    "- 안양평촌농수산물시장\n",
    "- 인천종합연안부두어시장\n",
    "- 소래포구종합어시장\n",
    "- 마포농수산물시장\n",
    "- 부산민락어민활어직판장\n",
    "\n",
    "-> 11개 시장 153 가게 대상\n",
    "\n",
    "todo: 해당 가게들에서 주로 파는 품목 확인"
   ]
  },
  {
   "cell_type": "code",
   "execution_count": null,
   "metadata": {},
   "outputs": [],
   "source": [
    "import time\n",
    "today = time.strftime(\"%Y-%m-%d\")\n",
    "output_file = f\"../data/processed/ikh_store_meta_{today}.csv\"\n",
    "df_ftd.to_csv(output_file, index=False, encoding=\"utf-8\")"
   ]
  },
  {
   "cell_type": "markdown",
   "metadata": {},
   "source": [
    "#### 품목 선정 - 선정된 가게에서 주로 판매하는 품목"
   ]
  },
  {
   "cell_type": "code",
   "execution_count": null,
   "metadata": {},
   "outputs": [],
   "source": [
    "file_path = \"../data/raw/ikh_store_item_2025-01-14.csv\"\n",
    "df = pd.read_csv(file_path, dtype={\"store_id\": str})\n",
    "df.head()\n",
    "# TODO: baseId, labelId, itemCategoryId 의 의미 파악 필요"
   ]
  },
  {
   "cell_type": "markdown",
   "metadata": {},
   "source": [
    "### 가격 변동 확인\n",
    "품목별 데이터가 얼마나 있는지를 확인한 후 품목 결정"
   ]
  },
  {
   "cell_type": "code",
   "execution_count": null,
   "metadata": {},
   "outputs": [],
   "source": [
    "# 컬럼별 고유 항목 수 확인 및 시각화\n",
    "columns = ['store', 'itemId', 'baseId', 'labelId', 'itemName', 'labelOrderNo',\n",
    "           'stateDesc', 'raisedDesc', 'originDesc', 'regionDesc', 'unitDesc', 'sizeDesc']\n",
    "# for column in df.columns:\n",
    "for column in columns:\n",
    "    # 항목별 개수 계산\n",
    "    value_counts = df[column].value_counts()\n",
    "    \n",
    "    # Value Count가 10 이상인 항목만 필터링\n",
    "    value_counts_filtered = value_counts[value_counts >= 10]\n",
    "    \n",
    "    # 조건을 만족하는 항목이 있을 때만 시각화\n",
    "    if not value_counts_filtered.empty:\n",
    "    # if not value_counts.empty:\n",
    "        plt.figure(figsize=(30, 3))\n",
    "        value_counts_filtered.plot(kind=\"bar\", color=\"skyblue\", edgecolor=\"black\")\n",
    "        plt.title(f\"Column: {column} - Value Counts (>= 10)\")\n",
    "        # value_counts.plot(kind=\"bar\", color=\"skyblue\", edgecolor=\"black\")        \n",
    "        # plt.title(f\"Column: {column} - Value Counts\")\n",
    "        plt.xlabel(\"Unique Values\")\n",
    "        plt.ylabel(\"Counts\")\n",
    "        plt.xticks(rotation=45, ha=\"right\")\n",
    "        plt.tight_layout()\n",
    "        plt.show()"
   ]
  },
  {
   "cell_type": "code",
   "execution_count": null,
   "metadata": {},
   "outputs": [],
   "source": [
    "# 품목별 판매중인 가게 수 확인\n",
    "# itemName별 store_id의 고유 개수 계산\n",
    "item_store_count = df.groupby(\"itemName\")[\"store_id\"].nunique()\n",
    "\n",
    "item_store_count_df = item_store_count.reset_index()\n",
    "item_store_count_df.columns = [\"itemName\", \"store_count\"]\n",
    "\n",
    "item_store_count_sorted = item_store_count.sort_values(ascending=False)\n",
    "item_store_count_sorted.plot(kind=\"bar\", figsize=(30, 3), color=\"skyblue\", edgecolor=\"black\")\n",
    "plt.title(\"Number of Stores Selling Each Item\")\n",
    "plt.xlabel(\"Item Name\")\n",
    "plt.ylabel(\"Number of Stores\")\n",
    "plt.xticks(rotation=45, ha=\"right\")\n",
    "plt.tight_layout()\n",
    "plt.show()\n",
    "\n",
    "item_store_count_sorted[:20].plot(kind=\"bar\", figsize=(10, 3), color=\"skyblue\", edgecolor=\"black\")\n",
    "plt.title(\"Number of Stores Selling Each Item top 20\")\n",
    "plt.xlabel(\"Item Name\")\n",
    "plt.ylabel(\"Number of Stores\")\n",
    "plt.xticks(rotation=45, ha=\"right\")\n",
    "plt.tight_layout()\n",
    "plt.show()\n"
   ]
  },
  {
   "cell_type": "code",
   "execution_count": null,
   "metadata": {},
   "outputs": [],
   "source": [
    "# 품목별 세부품목 수 확인\n",
    "top_20_item_names = item_store_count_sorted[:20].index\n",
    "\n",
    "# 상위 20개 itemName에 대한 데이터 필터링\n",
    "filtered_df = df[df[\"itemName\"].isin(top_20_item_names)]\n",
    "\n",
    "# itemId별 count와 itemName 정보 확인\n",
    "item_id_counts = filtered_df.groupby([\"itemName\", \"itemId\"]).size().reset_index(name=\"count\")\n",
    "\n",
    "# itemName-itemId 형식으로 라벨 생성\n",
    "item_id_counts[\"label\"] = item_id_counts[\"itemName\"] + \"-\" + item_id_counts[\"itemId\"].astype(str)\n",
    "\n",
    "item_id_counts = item_id_counts[item_id_counts[\"count\"] >= 20]\n",
    "# 시각화\n",
    "plt.figure(figsize=(30, 6))\n",
    "plt.bar(item_id_counts[\"label\"], item_id_counts[\"count\"], color=\"skyblue\", edgecolor=\"black\")\n",
    "plt.title(\"Counts of ItemId by ItemName\")\n",
    "plt.xlabel(\"ItemName-ItemId\")\n",
    "plt.ylabel(\"Count\")\n",
    "plt.xticks(rotation=45, ha=\"right\")\n",
    "plt.tight_layout()\n",
    "plt.show()\n",
    "\n",
    "item_id_counts = item_id_counts.sort_values(by=\"count\", ascending=False)\n",
    "plt.figure(figsize=(30, 6))\n",
    "plt.bar(item_id_counts[\"label\"], item_id_counts[\"count\"], color=\"skyblue\", edgecolor=\"black\")\n",
    "plt.title(\"Counts of ItemId by ItemName\")\n",
    "plt.xlabel(\"ItemName-ItemId\")\n",
    "plt.ylabel(\"Count\")\n",
    "plt.xticks(rotation=45, ha=\"right\")\n",
    "plt.tight_layout()\n",
    "plt.show()\n",
    "\n"
   ]
  },
  {
   "cell_type": "markdown",
   "metadata": {},
   "source": [
    "\n",
    "기존: 광어, 방어, 연어, 참돔, 대게, 가리비\n",
    "변경: 농어(53), 광어(3), 대게(17), 연어(100), 우럭(5906), 참돔(54), 방어(3849)"
   ]
  },
  {
   "cell_type": "code",
   "execution_count": null,
   "metadata": {},
   "outputs": [],
   "source": [
    "file_path = \"../data/raw/ikh_item_price_2025-01-14.csv\"\n",
    "df = pd.read_csv(file_path)\n",
    "df[\"priceDate\"] = pd.to_datetime(df[\"priceDate\"])\n",
    "\n",
    "df.head()"
   ]
  },
  {
   "cell_type": "code",
   "execution_count": null,
   "metadata": {},
   "outputs": [],
   "source": [
    "# df[df[\"item\"] == \"연어\"]"
   ]
  },
  {
   "cell_type": "code",
   "execution_count": null,
   "metadata": {},
   "outputs": [],
   "source": [
    "# 그룹화하여 아이템별, 날짜별 평균 가격 계산\n",
    "avg_price_by_item_date = df.groupby([\"item\", \"priceDate\"])[\"avgPrice\"].mean().reset_index()\n",
    "\n",
    "# 아이템별 시각화\n",
    "plt.figure(figsize=(12, 6))\n",
    "for item in avg_price_by_item_date[\"item\"].unique():\n",
    "    item_data = avg_price_by_item_date[avg_price_by_item_date[\"item\"] == item]\n",
    "    plt.plot(item_data[\"priceDate\"], item_data[\"avgPrice\"], label=item)\n",
    "\n",
    "# 그래프 꾸미기\n",
    "plt.title(\"Average Price by Date for Each Item\")\n",
    "plt.xlabel(\"Date\")\n",
    "plt.ylabel(\"Average Price\")\n",
    "plt.legend(title=\"Item\")\n",
    "plt.grid()\n",
    "plt.tight_layout()\n",
    "plt.show()\n"
   ]
  },
  {
   "cell_type": "markdown",
   "metadata": {},
   "source": []
  },
  {
   "cell_type": "code",
   "execution_count": null,
   "metadata": {},
   "outputs": [],
   "source": [
    "# 평균 가격 계산\n",
    "avg_price_by_item_market = df.groupby([\"item\", \"market\"])[\"avgPrice\"].mean().reset_index()\n",
    "\n",
    "# 아이템별 시장별 평균 가격 시각화\n",
    "plt.figure(figsize=(14, 8))\n",
    "sns.barplot(\n",
    "    x=\"market\", \n",
    "    y=\"avgPrice\", \n",
    "    hue=\"item\", \n",
    "    data=avg_price_by_item_market,\n",
    "    estimator=lambda x: x.mean(),\n",
    "    dodge=True\n",
    ")\n",
    "\n",
    "# 그래프 꾸미기\n",
    "plt.title(\"Average Price by Market and Item\")\n",
    "plt.xlabel(\"Market\")\n",
    "plt.ylabel(\"Average Price\")\n",
    "plt.xticks(rotation=45, ha=\"right\")\n",
    "plt.legend(title=\"Item\")\n",
    "plt.tight_layout()\n",
    "plt.show()\n",
    "\n",
    "\n",
    "\n",
    "# 현재 날짜 기준으로 최근 1년 데이터 필터링\n",
    "one_year_ago = datetime.now() - timedelta(days=365)\n",
    "df[\"priceDate\"] = pd.to_datetime(df[\"priceDate\"])  # priceDate를 datetime 형식으로 변환\n",
    "recent_data = df[df[\"priceDate\"] >= one_year_ago]\n",
    "\n",
    "# 평균 가격 계산 (최근 1년 데이터 사용)\n",
    "avg_price_by_item_market = recent_data.groupby([\"item\", \"market\"])[\"avgPrice\"].mean().reset_index()\n",
    "\n",
    "# 아이템별 시장별 평균 가격 시각화\n",
    "plt.figure(figsize=(14, 8))\n",
    "sns.barplot(\n",
    "    x=\"market\", \n",
    "    y=\"avgPrice\", \n",
    "    hue=\"item\", \n",
    "    data=avg_price_by_item_market,\n",
    "    estimator=lambda x: x.mean(),\n",
    "    dodge=True\n",
    ")\n",
    "\n",
    "# 그래프 꾸미기\n",
    "plt.title(\"Average Price by Market and Item (Last 1 Year)\")\n",
    "plt.xlabel(\"Market\")\n",
    "plt.ylabel(\"Average Price\")\n",
    "plt.xticks(rotation=45, ha=\"right\")\n",
    "plt.legend(title=\"Item\")\n",
    "plt.tight_layout()\n",
    "plt.show()"
   ]
  },
  {
   "cell_type": "code",
   "execution_count": null,
   "metadata": {},
   "outputs": [],
   "source": [
    "# # 시장별 평균 가격 비교\n",
    "# plt.figure(figsize=(12, 6))\n",
    "# sns.barplot(x=\"market\", y=\"avgPrice\", data=df, estimator=lambda x: x.mean())\n",
    "# plt.title(\"Average Price by Market\")\n",
    "# plt.xlabel(\"Market\")\n",
    "# plt.ylabel(\"Average Price\")\n",
    "# plt.xticks(rotation=45)\n",
    "# plt.show()"
   ]
  },
  {
   "cell_type": "code",
   "execution_count": null,
   "metadata": {},
   "outputs": [],
   "source": [
    "# 품목별 가격 변동성 확인\n",
    "price_variation = df.groupby(\"item\")[\"avgPrice\"].std()\n",
    "\n",
    "plt.figure(figsize=(10, 6))\n",
    "price_variation.plot(kind=\"bar\", title=\"Price Variation by Item\")\n",
    "plt.ylabel(\"Standard Deviation of Price\")\n",
    "plt.xlabel(\"Item\")\n",
    "plt.xticks(rotation=45)\n",
    "plt.grid()\n",
    "plt.show()"
   ]
  },
  {
   "cell_type": "code",
   "execution_count": null,
   "metadata": {},
   "outputs": [],
   "source": [
    "# 품목별 평균 가격 계산\n",
    "item_price_trend = df.groupby([\"priceDate\", \"item\"])[\"avgPrice\"].mean().unstack()\n",
    "\n",
    "# 품목별 시간에 따른 가격 변화 플롯\n",
    "plt.figure(figsize=(14, 8))\n",
    "for column in item_price_trend.columns:\n",
    "    plt.plot(item_price_trend.index, item_price_trend[column], label=column)\n",
    "\n",
    "plt.title(\"Average Price Trends by Item\", fontsize=16)\n",
    "plt.xlabel(\"Date\", fontsize=12)\n",
    "plt.ylabel(\"Average Price\", fontsize=12)\n",
    "plt.legend(title=\"Item\", fontsize=10)\n",
    "plt.grid()\n",
    "plt.show()"
   ]
  },
  {
   "cell_type": "code",
   "execution_count": null,
   "metadata": {},
   "outputs": [],
   "source": [
    "# 전체 날짜 범위 생성\n",
    "date_range = pd.date_range(start=df[\"priceDate\"].min(), end=df[\"priceDate\"].max())\n",
    "print(f\"전체날짜: {len(date_range)}\")\n",
    "\n",
    "# 품목별 누락된 날짜 찾기\n",
    "missing_dates = {}\n",
    "\n",
    "for item in df[\"item\"].unique():\n",
    "    # 해당 품목의 날짜 데이터\n",
    "    item_dates = df[df[\"item\"] == item][\"priceDate\"]\n",
    "    \n",
    "    # 누락된 날짜 계산\n",
    "    missing_dates[item] = date_range.difference(item_dates)\n",
    "\n",
    "# 누락된 날짜 출력\n",
    "for item, dates in missing_dates.items():\n",
    "    print(f\"품목: {item} / \\t누락된 날짜 수: {len(dates)}\")\n"
   ]
  },
  {
   "cell_type": "code",
   "execution_count": null,
   "metadata": {},
   "outputs": [],
   "source": [
    "print(f\"전체날짜: {len(date_range)}\")\n",
    "\n",
    "# 품목-시장별 누락된 날짜 계산\n",
    "missing_data = []\n",
    "for (item, market), group in df.groupby([\"item\", \"market\"]):\n",
    "    # 해당 품목-시장의 날짜 데이터\n",
    "    item_market_dates = group[\"priceDate\"]\n",
    "    # 누락된 날짜 계산\n",
    "    missing_dates = date_range.difference(item_market_dates)\n",
    "    missing_count = len(missing_dates)\n",
    "    \n",
    "    # 결과 저장\n",
    "    missing_data.append({\"Item\": item, \"Market\": market, \"Missing Count\": missing_count})\n",
    "    \n",
    "    # 누락된 날짜 출력\n",
    "    print(f\"품목: {item}, 시장: {market} / \\t누락된 날짜 수: {missing_count}\")\n",
    "\n",
    "\n",
    "# DataFrame 생성\n",
    "missing_df = pd.DataFrame(missing_data)\n"
   ]
  },
  {
   "cell_type": "markdown",
   "metadata": {},
   "source": [
    "- 우럭: 23년 이전 데이터가 없음\n",
    "- 방어: 20년 이전 데이터가 없음 + 여름 데이터 없음\n",
    "todo: 품목의 시세가 메뉴의 가격에 영향을 주는지 확인"
   ]
  },
  {
   "cell_type": "code",
   "execution_count": null,
   "metadata": {},
   "outputs": [],
   "source": []
  }
 ],
 "metadata": {
  "kernelspec": {
   "display_name": "ml_practice",
   "language": "python",
   "name": "python3"
  },
  "language_info": {
   "codemirror_mode": {
    "name": "ipython",
    "version": 3
   },
   "file_extension": ".py",
   "mimetype": "text/x-python",
   "name": "python",
   "nbconvert_exporter": "python",
   "pygments_lexer": "ipython3",
   "version": "3.11.9"
  }
 },
 "nbformat": 4,
 "nbformat_minor": 2
}
