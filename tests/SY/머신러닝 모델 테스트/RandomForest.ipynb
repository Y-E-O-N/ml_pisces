{
 "cells": [
  {
   "cell_type": "code",
   "execution_count": 12,
   "metadata": {},
   "outputs": [],
   "source": [
    "import pandas as pd\n",
    "import numpy as np\n",
    "from sklearn.model_selection import TimeSeriesSplit, train_test_split\n",
    "from sklearn.ensemble import RandomForestRegressor\n",
    "from sklearn.metrics import mean_absolute_error, mean_squared_error, r2_score\n",
    "import time\n",
    "from itertools import product\n",
    "from sklearn.model_selection import GridSearchCV, TimeSeriesSplit\n",
    "import matplotlib.pyplot as plt\n"
   ]
  },
  {
   "cell_type": "code",
   "execution_count": 15,
   "metadata": {},
   "outputs": [],
   "source": [
    "def train_evaluate_rf(data, target_col='avgPrice', time_series=True):\n",
    "\t\"\"\"RandomForest 모델의 그리드서치 수행 및 결과 시각화\"\"\"\n",
    "\t# 데이터 준비\n",
    "\tX = data.drop(['date', 'item', target_col], axis=1)\n",
    "\ty = data[target_col]\n",
    "\n",
    "\t# RandomForest 하이퍼파라미터 그리드 정의\n",
    "\trf_params = {\n",
    "\t\t'n_estimators': [100, 200, 300],                  # 앙상블을 구성하는 결정 트리의 개수\n",
    "\t\t'max_depth': [10, 20, 30],                        # 각 트리의 최대 깊이\n",
    "\t\t'min_samples_split': [2, 5, 10],                  # 내부 노드 분할에 필요한 최소 샘플 수\n",
    "\t\t'min_samples_leaf': [1, 2, 4],                    # 리프 노드가 되기 위한 최소 샘플 수\n",
    "\t\t'max_features': ['sqrt', 'log2', 0.8],            # 각 분할에서 고려할 특성의 수\n",
    "\t\t'bootstrap': [True, False],                       # 트리 생성 시 부트스트랩 샘플링 사용 여부\n",
    "\t\t'random_state': [1030],                             # 재현성을 위한 랜덤 시드\n",
    "\t\t'min_impurity_decrease': [0.0, 0.1, 0.2],        # 분할을 위한 최소 불순도 감소량\n",
    "\t\t'oob_score': [True, False],                       # Out-of-Bag 샘플을 이용한 성능 평가 여부\n",
    "\t\t'n_jobs': [-1]                                    # 병렬 처리에 사용할 CPU 코어 수\n",
    "\t}   \n",
    " \n",
    "   \n",
    "\t# 교차검증 설정\n",
    "\tif time_series:\n",
    "\t\ttrain_size = len(X)//2\n",
    "\t\ttest_size = len(X)//10\n",
    "\t\tcv = TimeSeriesSplit(\n",
    "\t\t\t\tn_splits=5,\n",
    "\t\t\t\ttest_size=test_size,\n",
    "\t\t\t\tgap=0\n",
    "\t)\n",
    "\telse:\n",
    "\t\tcv = ShuffleSplit(\n",
    "\t\t\t\tn_splits=5, \n",
    "\t\t\t\ttest_size=0.2, \n",
    "\t\t\t\trandom_state=42\n",
    "\t)\n",
    "\n",
    "\t# 그리드서치 수행\n",
    "\trf = RandomForestRegressor(random_state=1030, n_jobs=-1)\n",
    "\tgrid_search = GridSearchCV(\n",
    "\t\trf, rf_params, \n",
    "\t\tcv=cv,\n",
    "\t\tscoring='neg_root_mean_squared_error',\n",
    "\t\tn_jobs=-1,\n",
    "\t\tverbose=1\n",
    "\t)\n",
    "   \n",
    "\tgrid_search.fit(X, y)\n",
    "\n",
    "\t# 결과 출력\n",
    "\tprint(\"\\n** Model Performance **\")\n",
    "\tprint(f\"Best RMSE: {-grid_search.best_score_:.4f}\")\n",
    "\tprint(\"\\nBest Parameters:\")\n",
    "\tfor param, value in grid_search.best_params_.items():\n",
    "\t\tprint(f\"{param}: {value}\")\n",
    "\n",
    "\t# 예측 및 시각화\n",
    "\ty_pred = grid_search.predict(X)\n",
    "\n",
    "\tplt.figure(figsize=(15, 7))\n",
    "\tplt.plot(data['date'], y, label='Actual', color='blue')\n",
    "\tplt.plot(data['date'], y_pred, label='Predicted', color='red', linestyle='--')\n",
    "\tplt.title('Actual vs Predicted Price')\n",
    "\tplt.xlabel('Date')\n",
    "\tplt.ylabel('Price')\n",
    "\tplt.legend()\n",
    "\tplt.grid(True)\n",
    "\tplt.xticks(rotation=45)\n",
    "\tplt.tight_layout()\n",
    "\tplt.show()\n",
    "\n",
    "\t# 평가 지표 계산\n",
    "\tmetrics = calculate_metrics(y, y_pred, 0)\n",
    "\tprint(\"\\nFinal Metrics:\")\n",
    "\tfor k, v in metrics.items():\n",
    "\t\tif k != 'Training_Time':\n",
    "\t\t\tprint(f\"{k}: {v:.4f}\")\n",
    "           \n",
    "\treturn grid_search.best_estimator_"
   ]
  },
  {
   "cell_type": "code",
   "execution_count": null,
   "metadata": {},
   "outputs": [
    {
     "name": "stdout",
     "output_type": "stream",
     "text": [
      "Fitting 5 folds for each of 2916 candidates, totalling 14580 fits\n"
     ]
    }
   ],
   "source": [
    "data = pd.read_csv('../../../data/features/final_oneHot/광어_price_features_oneHot.csv')\n",
    "train_evaluate_rf(data, target_col='avgPrice', time_series=True)"
   ]
  }
 ],
 "metadata": {
  "kernelspec": {
   "display_name": "env311_cu121",
   "language": "python",
   "name": "python3"
  },
  "language_info": {
   "codemirror_mode": {
    "name": "ipython",
    "version": 3
   },
   "file_extension": ".py",
   "mimetype": "text/x-python",
   "name": "python",
   "nbconvert_exporter": "python",
   "pygments_lexer": "ipython3",
   "version": "3.11.11"
  }
 },
 "nbformat": 4,
 "nbformat_minor": 2
}
