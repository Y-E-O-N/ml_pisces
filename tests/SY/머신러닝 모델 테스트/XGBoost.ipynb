{
 "cells": [
  {
   "cell_type": "code",
   "execution_count": 1,
   "metadata": {},
   "outputs": [],
   "source": [
    "# 필요 라이브러리\n",
    "import numpy as np\n",
    "import pandas as pd\n",
    "import matplotlib.pyplot as plt\n",
    "from xgboost import XGBRegressor\n",
    "from sklearn.model_selection import TimeSeriesSplit, ShuffleSplit, GridSearchCV\n",
    "from sklearn.metrics import mean_absolute_error, mean_squared_error, r2_score"
   ]
  },
  {
   "cell_type": "code",
   "execution_count": 2,
   "metadata": {},
   "outputs": [],
   "source": [
    "\n",
    "def train_evaluate_xgb(data, target_col='avgPrice', time_series=True):\n",
    "   X = data.drop(['date', 'item', target_col], axis=1)\n",
    "   y = data[target_col]\n",
    "\n",
    "   xgb_params = {\n",
    "       'n_estimators': [500, 1000],\n",
    "       'max_depth': [6, 8],\n",
    "       'learning_rate': [0.01, 0.05],\n",
    "       'min_child_weight': [1, 3],\n",
    "       'subsample': [0.8, 0.9],\n",
    "       'colsample_bytree': [0.8, 0.9],\n",
    "       'gamma': [0, 0.1],\n",
    "       'random_state': [1030],\n",
    "       'n_jobs': [-1]\n",
    "   }\n",
    "\n",
    "   if time_series:\n",
    "       train_size = len(X)//2\n",
    "       test_size = len(X)//10\n",
    "       cv = TimeSeriesSplit(n_splits=5, test_size=test_size, gap=0)\n",
    "   else:\n",
    "       cv = ShuffleSplit(n_splits=5, test_size=0.2, random_state=42)\n",
    "\n",
    "\n",
    "   xgb = XGBRegressor(random_state=1030, n_jobs=-1)\n",
    "   grid_search = GridSearchCV(\n",
    "       xgb, xgb_params,\n",
    "       cv=cv,\n",
    "       scoring='neg_root_mean_squared_error',\n",
    "       n_jobs=-1,\n",
    "       verbose=1\n",
    "   )\n",
    "\n",
    "   grid_search.fit(X, y)\n",
    "\n",
    "   print(\"\\n** Model Performance **\")\n",
    "   print(f\"Best RMSE: {-grid_search.best_score_:.4f}\")\n",
    "   print(\"\\nBest Parameters:\")\n",
    "   for param, value in grid_search.best_params_.items():\n",
    "       print(f\"{param}: {value}\")\n",
    "\n",
    "   y_pred = grid_search.predict(X)\n",
    "   plt.figure(figsize=(15, 7))\n",
    "   plt.plot(data['date'], y, label='Actual', color='blue')\n",
    "   plt.plot(data['date'], y_pred, label='Predicted', color='red', linestyle='--')\n",
    "   plt.title('Actual vs Predicted Price')\n",
    "   plt.xlabel('Date')\n",
    "   plt.ylabel('Price')\n",
    "   plt.legend()\n",
    "   plt.grid(True)\n",
    "   plt.xticks(rotation=45)\n",
    "   plt.tight_layout()\n",
    "   plt.show()\n",
    "\n",
    "   metrics = calculate_metrics(y, y_pred, 0)\n",
    "   print(\"\\nFinal Metrics:\")\n",
    "   for k, v in metrics.items():\n",
    "       if k != 'Training_Time':\n",
    "           print(f\"{k}: {v:.4f}\")\n",
    "\n",
    "   return grid_search.best_estimator_"
   ]
  },
  {
   "cell_type": "code",
   "execution_count": null,
   "metadata": {},
   "outputs": [
    {
     "name": "stdout",
     "output_type": "stream",
     "text": [
      "Fitting 5 folds for each of 128 candidates, totalling 640 fits\n"
     ]
    }
   ],
   "source": [
    "data = pd.read_csv('../../../data/features/final_oneHot/광어_price_features_oneHot.csv')\n",
    "train_evaluate_xgb(data, target_col='avgPrice', time_series=True)"
   ]
  }
 ],
 "metadata": {
  "kernelspec": {
   "display_name": "env311_cu121",
   "language": "python",
   "name": "python3"
  },
  "language_info": {
   "codemirror_mode": {
    "name": "ipython",
    "version": 3
   },
   "file_extension": ".py",
   "mimetype": "text/x-python",
   "name": "python",
   "nbconvert_exporter": "python",
   "pygments_lexer": "ipython3",
   "version": "3.11.11"
  }
 },
 "nbformat": 4,
 "nbformat_minor": 2
}
