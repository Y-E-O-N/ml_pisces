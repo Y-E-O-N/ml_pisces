{
 "cells": [
  {
   "cell_type": "code",
   "execution_count": 13,
   "metadata": {},
   "outputs": [],
   "source": [
    "import pandas as pd\n",
    "\n",
    "def fill_market_zeros():\n",
    "\tdf = pd.read_csv('광어_price_features_noryangjin_merged.csv')\n",
    "\tmarket_cols = [col for col in df.columns if col.startswith('m_')]\n",
    "\tdf[market_cols] = df[market_cols].fillna(0).astype(int)\n",
    "\tdf.to_csv('광어_price_features_noryangjin_filled.csv', index=False)\n",
    "\n",
    "\tdf = pd.read_csv('농어_price_features_noryangjin_merged.csv')\n",
    "\tmarket_cols = [col for col in df.columns if col.startswith('m_')]\n",
    "\tdf[market_cols] = df[market_cols].fillna(0).astype(int)\n",
    "\tdf.to_csv('농어_price_features_noryangjin_filled.csv', index=False)\n",
    "\n",
    "\tdf = pd.read_csv('대게_price_features_noryangjin_merged.csv')\n",
    "\tmarket_cols = [col for col in df.columns if col.startswith('m_')]\n",
    "\tdf[market_cols] = df[market_cols].fillna(0).astype(int)\n",
    "\tdf.to_csv('대게_price_features_noryangjin_filled.csv', index=False)\n",
    "\n",
    "\tdf = pd.read_csv('방어_price_features_noryangjin_merged.csv')\n",
    "\tmarket_cols = [col for col in df.columns if col.startswith('m_')]\n",
    "\tdf[market_cols] = df[market_cols].fillna(0).astype(int)\n",
    "\tdf.to_csv('방어_price_features_noryangjin_filled.csv', index=False)\n",
    "\n",
    "\tdf = pd.read_csv('연어_price_features_noryangjin_merged.csv')\n",
    "\tmarket_cols = [col for col in df.columns if col.startswith('m_')]\n",
    "\tdf[market_cols] = df[market_cols].fillna(0).astype(int)\n",
    "\tdf.to_csv('연어_price_features_noryangjin_filled.csv', index=False)\n",
    "\n",
    "\tdf = pd.read_csv('우럭_price_features_noryangjin_merged.csv')\n",
    "\tmarket_cols = [col for col in df.columns if col.startswith('m_')]\n",
    "\tdf[market_cols] = df[market_cols].fillna(0).astype(int)\n",
    "\tdf.to_csv('우럭_price_features_noryangjin_filled.csv', index=False)\n",
    "\n",
    "\tdf = pd.read_csv('참돔_price_features_noryangjin_merged.csv')\n",
    "\tmarket_cols = [col for col in df.columns if col.startswith('m_')]\n",
    "\tdf[market_cols] = df[market_cols].fillna(0).astype(int)\n",
    "\tdf.to_csv('참돔_price_features_noryangjin_filled.csv', index=False)\n",
    "\n",
    "fill_market_zeros()"
   ]
  }
 ],
 "metadata": {
  "kernelspec": {
   "display_name": "env311_cu121",
   "language": "python",
   "name": "python3"
  },
  "language_info": {
   "codemirror_mode": {
    "name": "ipython",
    "version": 3
   },
   "file_extension": ".py",
   "mimetype": "text/x-python",
   "name": "python",
   "nbconvert_exporter": "python",
   "pygments_lexer": "ipython3",
   "version": "3.11.11"
  }
 },
 "nbformat": 4,
 "nbformat_minor": 2
}
