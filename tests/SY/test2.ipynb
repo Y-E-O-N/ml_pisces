{
 "cells": [
  {
   "cell_type": "code",
   "execution_count": 13,
   "metadata": {},
   "outputs": [],
   "source": [
    "import pandas as pd\n",
    "\n",
    "def fill_market_zeros():\n",
    "\tdf = pd.read_csv('광어_price_features_noryangjin_merged.csv')\n",
    "\tmarket_cols = [col for col in df.columns if col.startswith('m_')]\n",
    "\tdf[market_cols] = df[market_cols].fillna(0).astype(int)\n",
    "\tdf.to_csv('광어_price_features_noryangjin_filled.csv', index=False)\n",
    "\n",
    "\tdf = pd.read_csv('농어_price_features_noryangjin_merged.csv')\n",
    "\tmarket_cols = [col for col in df.columns if col.startswith('m_')]\n",
    "\tdf[market_cols] = df[market_cols].fillna(0).astype(int)\n",
    "\tdf.to_csv('농어_price_features_noryangjin_filled.csv', index=False)\n",
    "\n",
    "\tdf = pd.read_csv('대게_price_features_noryangjin_merged.csv')\n",
    "\tmarket_cols = [col for col in df.columns if col.startswith('m_')]\n",
    "\tdf[market_cols] = df[market_cols].fillna(0).astype(int)\n",
    "\tdf.to_csv('대게_price_features_noryangjin_filled.csv', index=False)\n",
    "\n",
    "\tdf = pd.read_csv('방어_price_features_noryangjin_merged.csv')\n",
    "\tmarket_cols = [col for col in df.columns if col.startswith('m_')]\n",
    "\tdf[market_cols] = df[market_cols].fillna(0).astype(int)\n",
    "\tdf.to_csv('방어_price_features_noryangjin_filled.csv', index=False)\n",
    "\n",
    "\tdf = pd.read_csv('연어_price_features_noryangjin_merged.csv')\n",
    "\tmarket_cols = [col for col in df.columns if col.startswith('m_')]\n",
    "\tdf[market_cols] = df[market_cols].fillna(0).astype(int)\n",
    "\tdf.to_csv('연어_price_features_noryangjin_filled.csv', index=False)\n",
    "\n",
    "\tdf = pd.read_csv('우럭_price_features_noryangjin_merged.csv')\n",
    "\tmarket_cols = [col for col in df.columns if col.startswith('m_')]\n",
    "\tdf[market_cols] = df[market_cols].fillna(0).astype(int)\n",
    "\tdf.to_csv('우럭_price_features_noryangjin_filled.csv', index=False)\n",
    "\n",
    "\tdf = pd.read_csv('참돔_price_features_noryangjin_merged.csv')\n",
    "\tmarket_cols = [col for col in df.columns if col.startswith('m_')]\n",
    "\tdf[market_cols] = df[market_cols].fillna(0).astype(int)\n",
    "\tdf.to_csv('참돔_price_features_noryangjin_filled.csv', index=False)\n",
    "\n",
    "fill_market_zeros()"
   ]
  },
  {
   "cell_type": "code",
   "execution_count": 3,
   "metadata": {},
   "outputs": [
    {
     "data": {
      "text/plain": [
       "Index(['date', 'item', 'm_가락시장', 'm_노량진시장', 'm_강서농수산물시장', 'm_구리농수산물시장',\n",
       "       'm_마포농수산물시장', 'm_부산민락어민활어직판장', 'm_소래포구종합어시장', 'm_수원농수산물시장',\n",
       "       'm_안양평촌농수산물시장', 'm_인천종합연안부두어시장', 'avgPrice', 'avgPrice_lag_1',\n",
       "       '광어_대_가락', '광어_20대_1', '광어_20대_250', '광어_30대_1', '광어_30대_317',\n",
       "       '광어_40대_1', '광어_40대_330', '광어_50대_1', '광어_50대_395', '광어_60대이상_1',\n",
       "       '광어_60대이상_339', '광어_Gold_314', '광어_KOSPI_136', '광어_MOVE_18',\n",
       "       '광어_Silver_238', '광어_USD/KRW_1', '광어_VIX_399', '광어_WTI_1',\n",
       "       '광어_기온_22105_97', '광어_수온_22107_79', '광어_습도_22186_349',\n",
       "       '광어_파주기_22190_103'],\n",
       "      dtype='object')"
      ]
     },
     "execution_count": 3,
     "metadata": {},
     "output_type": "execute_result"
    }
   ],
   "source": [
    "import pandas as pd\n",
    "\n",
    "# 파일 경로 설정\n",
    "file_path = '../../data/features/final_oneHot/광어_price_features_oneHot.csv'\n",
    "\n",
    "# CSV 파일 읽기\n",
    "data = pd.read_csv(file_path)\n",
    "\n",
    "data.columns"
   ]
  },
  {
   "cell_type": "code",
   "execution_count": null,
   "metadata": {},
   "outputs": [
    {
     "name": "stdout",
     "output_type": "stream",
     "text": [
      "결측치 채운 데이터가 ../../data/features/final_oneHot/광어_price_features_oneHot_filled.csv에 저장되었습니다.\n"
     ]
    }
   ],
   "source": [
    "\n",
    "\n",
    "# m_노량진시장 결측치 채우기\n",
    "def fill_missing_values(row, reference_col, target_col, data):\n",
    "    # 결측치인 경우 m_가락시장이 1이고 날짜가 같은 값으로 채움\n",
    "    if pd.isna(row[target_col]) and row[reference_col] == 1:\n",
    "        matching_rows = data[(data['m_가락시장'] == 1) & (data['날짜'] == row['날짜'])]\n",
    "        if not matching_rows.empty:\n",
    "            return matching_rows[target_col].iloc[0]  # 첫 번째 일치 값 가져오기\n",
    "    return row[target_col]\n",
    "\n",
    "# 'm_노량진시장' 칼럼 결측치 채우기\n",
    "data['m_노량진시장'] = data.apply(fill_missing_values, axis=1, args=('m_가락시장', 'm_노량진시장', data))\n",
    "\n",
    "# 결과 저장\n",
    "output_path = '../../data/features/final_oneHot/광어_price_features_oneHot_filled.csv'\n",
    "data.to_csv(output_path, index=False)\n",
    "\n",
    "print(f\"결측치 채운 데이터가 {output_path}에 저장되었습니다.\")\n"
   ]
  },
  {
   "cell_type": "code",
   "execution_count": 6,
   "metadata": {},
   "outputs": [
    {
     "name": "stdout",
     "output_type": "stream",
     "text": [
      "결측치 채운 데이터가 ../../data/features/final_oneHot/광어_price_features_oneHot_filled.csv에 저장되었습니다.\n"
     ]
    }
   ],
   "source": [
    "import pandas as pd\n",
    "\n",
    "# CSV 파일 경로 설정\n",
    "file_path = '../../data/features/final_oneHot/광어_price_features_oneHot.csv'\n",
    "\n",
    "# CSV 파일 읽기\n",
    "data = pd.read_csv(file_path)\n",
    "\n",
    "data['date'] = pd.to_datetime(data['date'])\n",
    "\n",
    "\n",
    "# 결측치 처리 함수\n",
    "def fill_missing_values(data, reference_col, target_cols):\n",
    "    \"\"\"\n",
    "    특정 열의 결측치를 동일한 날짜에서 reference_col이 1인 값으로 채웁니다.\n",
    "    \"\"\"\n",
    "    for index, row in data.iterrows():\n",
    "        if row['m_노량진시장'] == 1:  # 'm_노량진시장'이 1인 경우만 처리\n",
    "            for col in target_cols:\n",
    "                if pd.isna(row[col]):  # 해당 칼럼이 결측치라면\n",
    "                    # 조건에 맞는 행 찾기 (m_가락시장 == 1 & 날짜 동일)\n",
    "                    matching_row = data[(data['m_가락시장'] == 1) & (data['date'] == row['date'])]\n",
    "                    if not matching_row.empty:\n",
    "                        # 첫 번째 일치하는 값으로 결측치 채우기\n",
    "                        data.at[index, col] = matching_row[col].iloc[0]\n",
    "    return data\n",
    "\n",
    "# 처리할 대상 칼럼 리스트\n",
    "target_columns = [\n",
    "    'item', 'm_가락시장', 'm_노량진시장', 'm_강서농수산물시장', 'm_구리농수산물시장',\n",
    "    'm_마포농수산물시장', 'm_부산민락어민활어직판장', 'm_소래포구종합어시장', 'm_수원농수산물시장',\n",
    "    'm_안양평촌농수산물시장', 'm_인천종합연안부두어시장', 'avgPrice', 'avgPrice_lag_1',\n",
    "    '광어_대_가락', '광어_20대_1', '광어_20대_250', '광어_30대_1', '광어_30대_317',\n",
    "    '광어_40대_1', '광어_40대_330', '광어_50대_1', '광어_50대_395', '광어_60대이상_1',\n",
    "    '광어_60대이상_339', '광어_Gold_314', '광어_KOSPI_136', '광어_MOVE_18',\n",
    "    '광어_Silver_238', '광어_USD/KRW_1', '광어_VIX_399', '광어_WTI_1',\n",
    "    '광어_기온_22105_97', '광어_수온_22107_79', '광어_습도_22186_349',\n",
    "    '광어_파주기_22190_103'\n",
    "]\n",
    "\n",
    "# 결측치 처리\n",
    "data_filled = fill_missing_values(data, 'm_가락시장', target_columns)\n",
    "\n",
    "# 처리된 결과 저장\n",
    "output_path = '../../data/features/final_oneHot/광어_price_features_oneHot_filled.csv'\n",
    "data_filled.to_csv(output_path, index=False)\n",
    "\n",
    "print(f\"결측치 채운 데이터가 {output_path}에 저장되었습니다.\")\n",
    "\n"
   ]
  }
 ],
 "metadata": {
  "kernelspec": {
   "display_name": "env311_cu121",
   "language": "python",
   "name": "python3"
  },
  "language_info": {
   "codemirror_mode": {
    "name": "ipython",
    "version": 3
   },
   "file_extension": ".py",
   "mimetype": "text/x-python",
   "name": "python",
   "nbconvert_exporter": "python",
   "pygments_lexer": "ipython3",
   "version": "3.11.11"
  }
 },
 "nbformat": 4,
 "nbformat_minor": 2
}
