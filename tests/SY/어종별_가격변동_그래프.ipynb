{
 "cells": [
  {
   "cell_type": "code",
   "execution_count": 1,
   "metadata": {},
   "outputs": [],
   "source": [
    "import numpy as np\n",
    "import pandas as pd"
   ]
  },
  {
   "cell_type": "code",
   "execution_count": 14,
   "metadata": {},
   "outputs": [
    {
     "name": "stdout",
     "output_type": "stream",
     "text": [
      "<class 'pandas.core.frame.DataFrame'>\n",
      "RangeIndex: 11205 entries, 0 to 11204\n",
      "Data columns (total 10 columns):\n",
      " #   Column          Non-Null Count  Dtype  \n",
      "---  ------          --------------  -----  \n",
      " 0   priceDate       11205 non-null  object \n",
      " 1   item            11205 non-null  object \n",
      " 2   market          11205 non-null  object \n",
      " 3   minPrice        11205 non-null  float64\n",
      " 4   avgPrice        11205 non-null  float64\n",
      " 5   maxPrice        11205 non-null  float64\n",
      " 6   avgPrice_lag_1  11195 non-null  float64\n",
      " 7   avgPrice_lag_2  11185 non-null  float64\n",
      " 8   avgPrice_lag_3  11175 non-null  float64\n",
      " 9   avgPrice_lag_7  11139 non-null  float64\n",
      "dtypes: float64(7), object(3)\n",
      "memory usage: 875.5+ KB\n"
     ]
    },
    {
     "data": {
      "text/plain": [
       "Index(['priceDate', 'item', 'market', 'minPrice', 'avgPrice', 'maxPrice',\n",
       "       'avgPrice_lag_1', 'avgPrice_lag_2', 'avgPrice_lag_3', 'avgPrice_lag_7'],\n",
       "      dtype='object')"
      ]
     },
     "execution_count": 14,
     "metadata": {},
     "output_type": "execute_result"
    }
   ],
   "source": [
    "방어_data = pd.read_csv('../../notebooks/시계열_의존성/방어_price_data.csv')\n",
    "방어_data.info()\n",
    "방어_data.columns\n"
   ]
  },
  {
   "cell_type": "code",
   "execution_count": 15,
   "metadata": {},
   "outputs": [],
   "source": [
    "drop_list = ['minPrice', 'maxPrice',\n",
    "       'avgPrice_lag_1', 'avgPrice_lag_2', 'avgPrice_lag_3', 'avgPrice_lag_7']\n",
    "방어_data.drop(columns=drop_list, inplace=True)"
   ]
  },
  {
   "cell_type": "code",
   "execution_count": 16,
   "metadata": {},
   "outputs": [
    {
     "data": {
      "text/html": [
       "<div>\n",
       "<style scoped>\n",
       "    .dataframe tbody tr th:only-of-type {\n",
       "        vertical-align: middle;\n",
       "    }\n",
       "\n",
       "    .dataframe tbody tr th {\n",
       "        vertical-align: top;\n",
       "    }\n",
       "\n",
       "    .dataframe thead th {\n",
       "        text-align: right;\n",
       "    }\n",
       "</style>\n",
       "<table border=\"1\" class=\"dataframe\">\n",
       "  <thead>\n",
       "    <tr style=\"text-align: right;\">\n",
       "      <th></th>\n",
       "      <th>priceDate</th>\n",
       "      <th>item</th>\n",
       "      <th>market</th>\n",
       "      <th>avgPrice</th>\n",
       "    </tr>\n",
       "  </thead>\n",
       "  <tbody>\n",
       "    <tr>\n",
       "      <th>0</th>\n",
       "      <td>2020-10-25</td>\n",
       "      <td>방어</td>\n",
       "      <td>가락시장</td>\n",
       "      <td>35000.0</td>\n",
       "    </tr>\n",
       "    <tr>\n",
       "      <th>1</th>\n",
       "      <td>2020-10-26</td>\n",
       "      <td>방어</td>\n",
       "      <td>가락시장</td>\n",
       "      <td>35000.0</td>\n",
       "    </tr>\n",
       "    <tr>\n",
       "      <th>2</th>\n",
       "      <td>2020-10-27</td>\n",
       "      <td>방어</td>\n",
       "      <td>가락시장</td>\n",
       "      <td>35000.0</td>\n",
       "    </tr>\n",
       "    <tr>\n",
       "      <th>3</th>\n",
       "      <td>2020-10-28</td>\n",
       "      <td>방어</td>\n",
       "      <td>가락시장</td>\n",
       "      <td>35000.0</td>\n",
       "    </tr>\n",
       "    <tr>\n",
       "      <th>4</th>\n",
       "      <td>2020-10-29</td>\n",
       "      <td>방어</td>\n",
       "      <td>가락시장</td>\n",
       "      <td>35000.0</td>\n",
       "    </tr>\n",
       "    <tr>\n",
       "      <th>...</th>\n",
       "      <td>...</td>\n",
       "      <td>...</td>\n",
       "      <td>...</td>\n",
       "      <td>...</td>\n",
       "    </tr>\n",
       "    <tr>\n",
       "      <th>11200</th>\n",
       "      <td>2025-01-15</td>\n",
       "      <td>방어</td>\n",
       "      <td>인천종합연안부두어시장</td>\n",
       "      <td>35000.0</td>\n",
       "    </tr>\n",
       "    <tr>\n",
       "      <th>11201</th>\n",
       "      <td>2025-01-16</td>\n",
       "      <td>방어</td>\n",
       "      <td>인천종합연안부두어시장</td>\n",
       "      <td>35000.0</td>\n",
       "    </tr>\n",
       "    <tr>\n",
       "      <th>11202</th>\n",
       "      <td>2025-01-17</td>\n",
       "      <td>방어</td>\n",
       "      <td>인천종합연안부두어시장</td>\n",
       "      <td>35000.0</td>\n",
       "    </tr>\n",
       "    <tr>\n",
       "      <th>11203</th>\n",
       "      <td>2025-01-18</td>\n",
       "      <td>방어</td>\n",
       "      <td>인천종합연안부두어시장</td>\n",
       "      <td>35000.0</td>\n",
       "    </tr>\n",
       "    <tr>\n",
       "      <th>11204</th>\n",
       "      <td>2025-01-19</td>\n",
       "      <td>방어</td>\n",
       "      <td>인천종합연안부두어시장</td>\n",
       "      <td>35000.0</td>\n",
       "    </tr>\n",
       "  </tbody>\n",
       "</table>\n",
       "<p>11205 rows × 4 columns</p>\n",
       "</div>"
      ],
      "text/plain": [
       "        priceDate item       market  avgPrice\n",
       "0      2020-10-25   방어         가락시장   35000.0\n",
       "1      2020-10-26   방어         가락시장   35000.0\n",
       "2      2020-10-27   방어         가락시장   35000.0\n",
       "3      2020-10-28   방어         가락시장   35000.0\n",
       "4      2020-10-29   방어         가락시장   35000.0\n",
       "...           ...  ...          ...       ...\n",
       "11200  2025-01-15   방어  인천종합연안부두어시장   35000.0\n",
       "11201  2025-01-16   방어  인천종합연안부두어시장   35000.0\n",
       "11202  2025-01-17   방어  인천종합연안부두어시장   35000.0\n",
       "11203  2025-01-18   방어  인천종합연안부두어시장   35000.0\n",
       "11204  2025-01-19   방어  인천종합연안부두어시장   35000.0\n",
       "\n",
       "[11205 rows x 4 columns]"
      ]
     },
     "execution_count": 16,
     "metadata": {},
     "output_type": "execute_result"
    }
   ],
   "source": [
    "방어_data"
   ]
  },
  {
   "cell_type": "markdown",
   "metadata": {},
   "source": [
    "방어_data"
   ]
  }
 ],
 "metadata": {
  "kernelspec": {
   "display_name": "env311_cu121",
   "language": "python",
   "name": "python3"
  },
  "language_info": {
   "codemirror_mode": {
    "name": "ipython",
    "version": 3
   },
   "file_extension": ".py",
   "mimetype": "text/x-python",
   "name": "python",
   "nbconvert_exporter": "python",
   "pygments_lexer": "ipython3",
   "version": "3.11.11"
  }
 },
 "nbformat": 4,
 "nbformat_minor": 2
}
