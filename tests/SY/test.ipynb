{
 "cells": [
  {
   "cell_type": "code",
   "execution_count": 8,
   "metadata": {},
   "outputs": [],
   "source": [
    "import pandas as pd\n",
    "\n",
    "def process_age_groups(file_path):\n",
    "    # CSV 파일 읽기\n",
    "    df = pd.read_csv(file_path, encoding='utf-8')\n",
    "    \n",
    "    # 연령대 그룹 매핑 딕셔너리 생성\n",
    "    age_mapping = {\n",
    "        '19_24': '20대',\n",
    "        '25_29': '20대',\n",
    "        '30_34': '30대',\n",
    "        '35_39': '30대',\n",
    "        '40_44': '40대',\n",
    "        '45_49': '40대',\n",
    "        '50_54': '50대',\n",
    "        '55_59': '50대',\n",
    "        '60_80': '60대 이상'\n",
    "    }\n",
    "    \n",
    "    # 원하는 연령대만 필터링\n",
    "    df = df[df['age'].isin(age_mapping.keys())]\n",
    "    \n",
    "    # 새로운 연령대 컬럼 생성\n",
    "    df['age_group'] = df['age'].map(age_mapping)\n",
    "    \n",
    "    # 일자별, 새로운 연령대별로 score 합산\n",
    "    result = df.groupby(['date', 'name', 'age_group'])['score'].sum().reset_index()\n",
    "    \n",
    "    # 피벗 테이블로 변환하여 보기 좋게 정리\n",
    "    pivot_result = result.pivot(index=['date', 'name'], \n",
    "                              columns='age_group', \n",
    "                              values='score').reset_index()\n",
    "    \n",
    "    # 컬럼 순서 정리\n",
    "    column_order = [ 'date', 'name', '20대', '30대', '40대', '50대', '60대 이상']\n",
    "    pivot_result = pivot_result[column_order]\n",
    "    \n",
    "    return pivot_result\n",
    "\n"
   ]
  },
  {
   "cell_type": "code",
   "execution_count": 9,
   "metadata": {},
   "outputs": [],
   "source": [
    "# 광어\n",
    "result_df = process_age_groups('../../data/raw/nst_광어_trend_2025-01-17.csv')\n",
    "result_df.to_csv('그룹화_nst_광어_trend_2025-01-17.csv', index=False)"
   ]
  },
  {
   "cell_type": "code",
   "execution_count": 10,
   "metadata": {},
   "outputs": [],
   "source": [
    "# 농어 \n",
    "result_df = process_age_groups('../../data/raw/nst_농어_trend_2025-01-17.csv')\n",
    "result_df.to_csv('그룹화_nst_농어_trend_2025-01-17.csv', index=False)"
   ]
  },
  {
   "cell_type": "code",
   "execution_count": 11,
   "metadata": {},
   "outputs": [],
   "source": [
    "# 대게 \n",
    "result_df = process_age_groups('../../data/raw/nst_대게_trend_2025-01-17.csv')\n",
    "result_df.to_csv('그룹화_nst_대게_trend_2025-01-17.csv', index=False)"
   ]
  },
  {
   "cell_type": "code",
   "execution_count": 12,
   "metadata": {},
   "outputs": [],
   "source": [
    "# 방어 \n",
    "result_df = process_age_groups('../../data/raw/nst_방어_trend_2025-01-17.csv')\n",
    "result_df.to_csv('그룹화_nst_방어_trend_2025-01-17.csv', index=False)"
   ]
  },
  {
   "cell_type": "code",
   "execution_count": 13,
   "metadata": {},
   "outputs": [],
   "source": [
    "# 연어\n",
    "result_df = process_age_groups('../../data/raw/nst_연어_trend_2025-01-17.csv')\n",
    "result_df.to_csv('그룹화_nst_연어_trend_2025-01-17.csv', index=False)"
   ]
  },
  {
   "cell_type": "code",
   "execution_count": 14,
   "metadata": {},
   "outputs": [],
   "source": [
    "# 우럭 \n",
    "result_df = process_age_groups('../../data/raw/nst_우럭_trend_2025-01-17.csv')\n",
    "result_df.to_csv('그룹화_nst_우럭_trend_2025-01-17.csv', index=False)"
   ]
  },
  {
   "cell_type": "code",
   "execution_count": 15,
   "metadata": {},
   "outputs": [],
   "source": [
    "# 참돔 \n",
    "result_df = process_age_groups('../../data/raw/nst_참돔_trend_2025-01-17.csv')\n",
    "result_df.to_csv('그룹화_nst_참돔_trend_2025-01-17.csv', index=False)"
   ]
  },
  {
   "cell_type": "code",
   "execution_count": 4,
   "metadata": {},
   "outputs": [
    {
     "name": "stdout",
     "output_type": "stream",
     "text": [
      "처리된 데이터가 daily_item_average_prices.csv에 저장되었습니다.\n",
      "\n",
      "처리된 데이터 미리보기:\n",
      "     priceDate item  avgPrice\n",
      "19  2015-02-25   광어   25000.0\n",
      "23  2015-02-26   광어   25000.0\n",
      "27  2015-02-27   광어   25000.0\n",
      "31  2015-02-28   광어   25000.0\n",
      "35  2015-03-01   광어   25000.0\n"
     ]
    },
    {
     "name": "stderr",
     "output_type": "stream",
     "text": [
      "C:\\Users\\user\\AppData\\Local\\Temp\\ipykernel_4516\\2890981007.py:12: FutureWarning: SeriesGroupBy.fillna is deprecated and will be removed in a future version. Use obj.ffill() or obj.bfill() for forward or backward filling instead. If you want to fill with a single value, use Series.fillna instead\n",
      "  daily_avg['avgPrice'] = daily_avg.groupby('item')['avgPrice'].fillna(method='ffill')\n",
      "C:\\Users\\user\\AppData\\Local\\Temp\\ipykernel_4516\\2890981007.py:12: FutureWarning: Series.fillna with 'method' is deprecated and will raise in a future version. Use obj.ffill() or obj.bfill() instead.\n",
      "  daily_avg['avgPrice'] = daily_avg.groupby('item')['avgPrice'].fillna(method='ffill')\n",
      "C:\\Users\\user\\AppData\\Local\\Temp\\ipykernel_4516\\2890981007.py:13: FutureWarning: SeriesGroupBy.fillna is deprecated and will be removed in a future version. Use obj.ffill() or obj.bfill() for forward or backward filling instead. If you want to fill with a single value, use Series.fillna instead\n",
      "  daily_avg['avgPrice'] = daily_avg.groupby('item')['avgPrice'].fillna(method='bfill')\n",
      "C:\\Users\\user\\AppData\\Local\\Temp\\ipykernel_4516\\2890981007.py:13: FutureWarning: Series.fillna with 'method' is deprecated and will raise in a future version. Use obj.ffill() or obj.bfill() instead.\n",
      "  daily_avg['avgPrice'] = daily_avg.groupby('item')['avgPrice'].fillna(method='bfill')\n"
     ]
    }
   ],
   "source": [
    "import pandas as pd\n",
    "\n",
    "def calculate_item_daily_average(file_path):\n",
    "    # CSV 파일 읽기\n",
    "    df = pd.read_csv(file_path, encoding='utf-8')\n",
    "    \n",
    "    # 날짜와 어종별로 그룹화하여 시장 평균 계산\n",
    "    daily_avg = df.groupby(['priceDate', 'item'])['avgPrice'].mean().reset_index()\n",
    "    \n",
    "    # 결측치를 앞뒤 값으로 채우기\n",
    "    daily_avg = daily_avg.sort_values(['item', 'priceDate'])\n",
    "    daily_avg['avgPrice'] = daily_avg.groupby('item')['avgPrice'].fillna(method='ffill')\n",
    "    daily_avg['avgPrice'] = daily_avg.groupby('item')['avgPrice'].fillna(method='bfill')\n",
    "    \n",
    "    return daily_avg\n",
    "\n",
    "# 파일 처리\n",
    "file_path = '../../data/processed/item_price_lag_filled.csv'\n",
    "result_df = calculate_item_daily_average(file_path)\n",
    "\n",
    "# 결과 저장\n",
    "output_file = 'daily_item_average_prices.csv'\n",
    "result_df.to_csv(output_file, index=False)\n",
    "print(f\"처리된 데이터가 {output_file}에 저장되었습니다.\")\n",
    "\n",
    "# 결과 미리보기\n",
    "print(\"\\n처리된 데이터 미리보기:\")\n",
    "print(result_df.head())"
   ]
  }
 ],
 "metadata": {
  "kernelspec": {
   "display_name": "env311_cu121",
   "language": "python",
   "name": "python3"
  },
  "language_info": {
   "codemirror_mode": {
    "name": "ipython",
    "version": 3
   },
   "file_extension": ".py",
   "mimetype": "text/x-python",
   "name": "python",
   "nbconvert_exporter": "python",
   "pygments_lexer": "ipython3",
   "version": "3.11.11"
  }
 },
 "nbformat": 4,
 "nbformat_minor": 2
}
