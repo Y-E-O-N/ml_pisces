{
 "cells": [
  {
   "cell_type": "code",
   "execution_count": 37,
   "metadata": {},
   "outputs": [],
   "source": [
    "import pandas as pd\n",
    "import numpy as np\n",
    "from sklearn.model_selection import TimeSeriesSplit, ShuffleSplit, GridSearchCV, train_test_split\n",
    "from sklearn.metrics import mean_absolute_error, mean_squared_error, r2_score\n",
    "from xgboost import XGBRegressor\n",
    "from sklearn.preprocessing import StandardScaler\n",
    "import matplotlib.pyplot as plt\n",
    "import time\n",
    "import joblib  # 모델 저장을 위한 라이브러리\n",
    "from itertools import combinations\n",
    "\n",
    "# 한글 폰트 설정\n",
    "plt.rcParams['font.family'] = 'Malgun Gothic'\n",
    "plt.rcParams['axes.unicode_minus'] = False"
   ]
  },
  {
   "cell_type": "code",
   "execution_count": 38,
   "metadata": {},
   "outputs": [],
   "source": [
    "# 데이터 불러오기 및 기본 확인\n",
    "file_path = '../../data/features/final_oneHot/광어_price_features_notnull.csv'\n",
    "data = pd.read_csv(file_path)\n",
    "\n",
    "# 날짜 데이터 변환\n",
    "data['date'] = pd.to_datetime(data['date'])\n",
    "data.set_index('date', inplace=True)\n",
    "\n",
    "# 불필요한 'item' 컬럼 제거\n",
    "data.drop(columns=['item'], inplace=True)\n",
    "\n",
    "# 결측치 처리 - 수온의 평균값으로 대체\n",
    "data['광어_수온_22107_79'].fillna(data['광어_수온_22107_79'].mean(), inplace=True)\n"
   ]
  },
  {
   "cell_type": "code",
   "execution_count": 52,
   "metadata": {},
   "outputs": [],
   "source": [
    "# 선택할 피처 리스트\n",
    "def train_xgb_model(data, target_col='avgPrice', features=None, test_size=0.2):\n",
    "    if features is None:\n",
    "        features = [col for col in data.columns if col != target_col]\n",
    "\n",
    "    # 데이터 분할\n",
    "    X = data[features]\n",
    "    y = data[target_col]\n",
    "    X_train, X_test, y_train, y_test = train_test_split(X, y, test_size=test_size, random_state=42)\n",
    "\n",
    "    model = XGBRegressor(n_estimators = 100, learning_rate=0.1, random_state=42)\n",
    "    model.fit(X_train, y_train)\n",
    "\n",
    "    # 예측 및 성능 평가\n",
    "    y_pred = model.predict(X_test)\n",
    "    rmse = mean_squared_error(y_test, y_pred, squared=False)\n",
    "    r2 = r2_score(y_test, y_pred)\n",
    "    mae = mean_absolute_error(y_test, y_pred)\n",
    "\n",
    "    print(f'RMSE: {rmse:.2f}')\n",
    "    print(f'R2 Score: {r2:.4f}')\n",
    "    print(f'MAE: {mae:.2f}')\n",
    "\n",
    "    # # 모델 저장\n",
    "    # joblib.dump(best_model, 'xgb_model.joblib')\n",
    "    # print(\"학습된 모델이 'xgb_model.joblib'로 저장되었습니다.\")\n",
    "\n",
    "    return model    #, rmse\n",
    "\n",
    "\n",
    "# 피처 조합 탐색 및 최적 조합 출력\n",
    "def feature_selection_experiment(data, target_col='avgPrice'):\n",
    "    all_features = [col for col in data.columns if col != target_col]\n",
    "    best_results = []\n",
    "    select_columns = [\n",
    "        '광어_20대_1', '광어_20대_250', '광어_30대_1', '광어_30대_317', '광어_40대_1',\n",
    "       '광어_40대_330', '광어_50대_1', '광어_50대_395', '광어_60대이상_1', '광어_60대이상_339',\n",
    "       '광어_Gold_314', '광어_KOSPI_136', '광어_MOVE_18', '광어_Silver_238',\n",
    "       '광어_USD/KRW_1', '광어_VIX_399', '광어_WTI_1', '광어_기온_22105_97',\n",
    "       '광어_수온_22107_79', '광어_습도_22186_349', '광어_파주기_22190_103'\n",
    "    ]\n",
    "    fixed_columns = ['m_가락시장', 'm_강서농수산물시장', 'm_구리농수산물시장', 'm_노량진 1층', 'm_노량진 2층',\n",
    "       'm_마포농수산물시장', 'm_부산민락어민활어직판장', 'm_소래포구종합어시장', 'm_수원농수산물시장',\n",
    "       'm_안양평촌농수산물시장', 'm_인천종합연안부두어시장', 'avgPrice', 'avgPrice_lag_1'\n",
    "       ]\n",
    "    \n",
    "    for i in range(20, len(select_columns)):\n",
    "        for combo in combinations(select_columns,i):\n",
    "            final_columns = fixed_columns+list(combo)\n",
    "            model, rmse = train_xgb_model(data, target_col=target_col, features=final_columns)\n",
    "            # y_test = data[target_col].iloc[-len(model.predict(data[final_columns])):]  # 테스트 데이터\n",
    "            # y_pred = model.predict(data[final_columns])\n",
    "            # rmse = mean_squared_error(y_test, y_pred, squared=False)\n",
    "            best_results.append((rmse, combo))\n",
    "\n",
    "    # for i in range(1, len(all_features) + 1):\n",
    "    #     for combo in combinations(all_features, i):\n",
    "    #         model = train_xgb_model(data, target_col=target_col, features=list(combo))\n",
    "    #         y_test = data[target_col].iloc[-len(model.predict(data[list(combo)])):]  # 테스트 데이터\n",
    "    #         y_pred = model.predict(data[list(combo)])\n",
    "    #         rmse = mean_squared_error(y_test, y_pred, squared=False)\n",
    "    #         best_results.append((rmse, combo))\n",
    "\n",
    "    best_results.sort()\n",
    "    top_5 = best_results[:5]\n",
    "    for rank, (rmse, features) in enumerate(top_5, 1):\n",
    "        print(f'Top {rank}: RMSE = {rmse:.2f}, Features = {features}')"
   ]
  },
  {
   "cell_type": "code",
   "execution_count": 53,
   "metadata": {},
   "outputs": [
    {
     "name": "stdout",
     "output_type": "stream",
     "text": [
      "\n",
      "--- 모델 학습 및 평가 ---\n"
     ]
    },
    {
     "name": "stderr",
     "output_type": "stream",
     "text": [
      "c:\\Users\\user\\miniconda3\\envs\\env311_conda\\Lib\\site-packages\\sklearn\\metrics\\_regression.py:483: FutureWarning: 'squared' is deprecated in version 1.4 and will be removed in 1.6. To calculate the root mean squared error, use the function'root_mean_squared_error'.\n",
      "  warnings.warn(\n"
     ]
    },
    {
     "name": "stdout",
     "output_type": "stream",
     "text": [
      "RMSE: 3.84\n",
      "R2 Score: 0.9083\n",
      "MAE: 2.95\n",
      "\n",
      "--- 피처 조합 탐색 ---\n"
     ]
    },
    {
     "ename": "KeyError",
     "evalue": "\"['m_수원농수산물시장', 'avgPrice_lag_1'] not in index\"",
     "output_type": "error",
     "traceback": [
      "\u001b[1;31m---------------------------------------------------------------------------\u001b[0m",
      "\u001b[1;31mKeyError\u001b[0m                                  Traceback (most recent call last)",
      "Cell \u001b[1;32mIn[53], line 7\u001b[0m\n\u001b[0;32m      5\u001b[0m \u001b[38;5;66;03m# 피처 조합 탐색 실행\u001b[39;00m\n\u001b[0;32m      6\u001b[0m \u001b[38;5;28mprint\u001b[39m(\u001b[38;5;124m\"\u001b[39m\u001b[38;5;130;01m\\n\u001b[39;00m\u001b[38;5;124m--- 피처 조합 탐색 ---\u001b[39m\u001b[38;5;124m\"\u001b[39m)\n\u001b[1;32m----> 7\u001b[0m \u001b[43mfeature_selection_experiment\u001b[49m\u001b[43m(\u001b[49m\u001b[43mdata\u001b[49m\u001b[43m,\u001b[49m\u001b[43m \u001b[49m\u001b[43mtarget_col\u001b[49m\u001b[38;5;241;43m=\u001b[39;49m\u001b[38;5;124;43m'\u001b[39;49m\u001b[38;5;124;43mavgPrice\u001b[39;49m\u001b[38;5;124;43m'\u001b[39;49m\u001b[43m)\u001b[49m\n",
      "Cell \u001b[1;32mIn[52], line 50\u001b[0m, in \u001b[0;36mfeature_selection_experiment\u001b[1;34m(data, target_col)\u001b[0m\n\u001b[0;32m     48\u001b[0m \u001b[38;5;28;01mfor\u001b[39;00m combo \u001b[38;5;129;01min\u001b[39;00m combinations(select_columns,i):\n\u001b[0;32m     49\u001b[0m     final_columns \u001b[38;5;241m=\u001b[39m fixed_columns\u001b[38;5;241m+\u001b[39m\u001b[38;5;28mlist\u001b[39m(combo)\n\u001b[1;32m---> 50\u001b[0m     model, rmse \u001b[38;5;241m=\u001b[39m \u001b[43mtrain_xgb_model\u001b[49m\u001b[43m(\u001b[49m\u001b[43mdata\u001b[49m\u001b[43m,\u001b[49m\u001b[43m \u001b[49m\u001b[43mtarget_col\u001b[49m\u001b[38;5;241;43m=\u001b[39;49m\u001b[43mtarget_col\u001b[49m\u001b[43m,\u001b[49m\u001b[43m \u001b[49m\u001b[43mfeatures\u001b[49m\u001b[38;5;241;43m=\u001b[39;49m\u001b[43mfinal_columns\u001b[49m\u001b[43m)\u001b[49m\n\u001b[0;32m     51\u001b[0m     \u001b[38;5;66;03m# y_test = data[target_col].iloc[-len(model.predict(data[final_columns])):]  # 테스트 데이터\u001b[39;00m\n\u001b[0;32m     52\u001b[0m     \u001b[38;5;66;03m# y_pred = model.predict(data[final_columns])\u001b[39;00m\n\u001b[0;32m     53\u001b[0m     \u001b[38;5;66;03m# rmse = mean_squared_error(y_test, y_pred, squared=False)\u001b[39;00m\n\u001b[0;32m     54\u001b[0m     best_results\u001b[38;5;241m.\u001b[39mappend((rmse, combo))\n",
      "Cell \u001b[1;32mIn[52], line 7\u001b[0m, in \u001b[0;36mtrain_xgb_model\u001b[1;34m(data, target_col, features, test_size)\u001b[0m\n\u001b[0;32m      4\u001b[0m     features \u001b[38;5;241m=\u001b[39m [col \u001b[38;5;28;01mfor\u001b[39;00m col \u001b[38;5;129;01min\u001b[39;00m data\u001b[38;5;241m.\u001b[39mcolumns \u001b[38;5;28;01mif\u001b[39;00m col \u001b[38;5;241m!=\u001b[39m target_col]\n\u001b[0;32m      6\u001b[0m \u001b[38;5;66;03m# 데이터 분할\u001b[39;00m\n\u001b[1;32m----> 7\u001b[0m X \u001b[38;5;241m=\u001b[39m \u001b[43mdata\u001b[49m\u001b[43m[\u001b[49m\u001b[43mfeatures\u001b[49m\u001b[43m]\u001b[49m\n\u001b[0;32m      8\u001b[0m y \u001b[38;5;241m=\u001b[39m data[target_col]\n\u001b[0;32m      9\u001b[0m X_train, X_test, y_train, y_test \u001b[38;5;241m=\u001b[39m train_test_split(X, y, test_size\u001b[38;5;241m=\u001b[39mtest_size, random_state\u001b[38;5;241m=\u001b[39m\u001b[38;5;241m42\u001b[39m)\n",
      "File \u001b[1;32mc:\\Users\\user\\miniconda3\\envs\\env311_conda\\Lib\\site-packages\\pandas\\core\\frame.py:3899\u001b[0m, in \u001b[0;36mDataFrame.__getitem__\u001b[1;34m(self, key)\u001b[0m\n\u001b[0;32m   3897\u001b[0m     \u001b[38;5;28;01mif\u001b[39;00m is_iterator(key):\n\u001b[0;32m   3898\u001b[0m         key \u001b[38;5;241m=\u001b[39m \u001b[38;5;28mlist\u001b[39m(key)\n\u001b[1;32m-> 3899\u001b[0m     indexer \u001b[38;5;241m=\u001b[39m \u001b[38;5;28;43mself\u001b[39;49m\u001b[38;5;241;43m.\u001b[39;49m\u001b[43mcolumns\u001b[49m\u001b[38;5;241;43m.\u001b[39;49m\u001b[43m_get_indexer_strict\u001b[49m\u001b[43m(\u001b[49m\u001b[43mkey\u001b[49m\u001b[43m,\u001b[49m\u001b[43m \u001b[49m\u001b[38;5;124;43m\"\u001b[39;49m\u001b[38;5;124;43mcolumns\u001b[39;49m\u001b[38;5;124;43m\"\u001b[39;49m\u001b[43m)\u001b[49m[\u001b[38;5;241m1\u001b[39m]\n\u001b[0;32m   3901\u001b[0m \u001b[38;5;66;03m# take() does not accept boolean indexers\u001b[39;00m\n\u001b[0;32m   3902\u001b[0m \u001b[38;5;28;01mif\u001b[39;00m \u001b[38;5;28mgetattr\u001b[39m(indexer, \u001b[38;5;124m\"\u001b[39m\u001b[38;5;124mdtype\u001b[39m\u001b[38;5;124m\"\u001b[39m, \u001b[38;5;28;01mNone\u001b[39;00m) \u001b[38;5;241m==\u001b[39m \u001b[38;5;28mbool\u001b[39m:\n",
      "File \u001b[1;32mc:\\Users\\user\\miniconda3\\envs\\env311_conda\\Lib\\site-packages\\pandas\\core\\indexes\\base.py:6115\u001b[0m, in \u001b[0;36mIndex._get_indexer_strict\u001b[1;34m(self, key, axis_name)\u001b[0m\n\u001b[0;32m   6112\u001b[0m \u001b[38;5;28;01melse\u001b[39;00m:\n\u001b[0;32m   6113\u001b[0m     keyarr, indexer, new_indexer \u001b[38;5;241m=\u001b[39m \u001b[38;5;28mself\u001b[39m\u001b[38;5;241m.\u001b[39m_reindex_non_unique(keyarr)\n\u001b[1;32m-> 6115\u001b[0m \u001b[38;5;28;43mself\u001b[39;49m\u001b[38;5;241;43m.\u001b[39;49m\u001b[43m_raise_if_missing\u001b[49m\u001b[43m(\u001b[49m\u001b[43mkeyarr\u001b[49m\u001b[43m,\u001b[49m\u001b[43m \u001b[49m\u001b[43mindexer\u001b[49m\u001b[43m,\u001b[49m\u001b[43m \u001b[49m\u001b[43maxis_name\u001b[49m\u001b[43m)\u001b[49m\n\u001b[0;32m   6117\u001b[0m keyarr \u001b[38;5;241m=\u001b[39m \u001b[38;5;28mself\u001b[39m\u001b[38;5;241m.\u001b[39mtake(indexer)\n\u001b[0;32m   6118\u001b[0m \u001b[38;5;28;01mif\u001b[39;00m \u001b[38;5;28misinstance\u001b[39m(key, Index):\n\u001b[0;32m   6119\u001b[0m     \u001b[38;5;66;03m# GH 42790 - Preserve name from an Index\u001b[39;00m\n",
      "File \u001b[1;32mc:\\Users\\user\\miniconda3\\envs\\env311_conda\\Lib\\site-packages\\pandas\\core\\indexes\\base.py:6179\u001b[0m, in \u001b[0;36mIndex._raise_if_missing\u001b[1;34m(self, key, indexer, axis_name)\u001b[0m\n\u001b[0;32m   6176\u001b[0m     \u001b[38;5;28;01mraise\u001b[39;00m \u001b[38;5;167;01mKeyError\u001b[39;00m(\u001b[38;5;124mf\u001b[39m\u001b[38;5;124m\"\u001b[39m\u001b[38;5;124mNone of [\u001b[39m\u001b[38;5;132;01m{\u001b[39;00mkey\u001b[38;5;132;01m}\u001b[39;00m\u001b[38;5;124m] are in the [\u001b[39m\u001b[38;5;132;01m{\u001b[39;00maxis_name\u001b[38;5;132;01m}\u001b[39;00m\u001b[38;5;124m]\u001b[39m\u001b[38;5;124m\"\u001b[39m)\n\u001b[0;32m   6178\u001b[0m not_found \u001b[38;5;241m=\u001b[39m \u001b[38;5;28mlist\u001b[39m(ensure_index(key)[missing_mask\u001b[38;5;241m.\u001b[39mnonzero()[\u001b[38;5;241m0\u001b[39m]]\u001b[38;5;241m.\u001b[39munique())\n\u001b[1;32m-> 6179\u001b[0m \u001b[38;5;28;01mraise\u001b[39;00m \u001b[38;5;167;01mKeyError\u001b[39;00m(\u001b[38;5;124mf\u001b[39m\u001b[38;5;124m\"\u001b[39m\u001b[38;5;132;01m{\u001b[39;00mnot_found\u001b[38;5;132;01m}\u001b[39;00m\u001b[38;5;124m not in index\u001b[39m\u001b[38;5;124m\"\u001b[39m)\n",
      "\u001b[1;31mKeyError\u001b[0m: \"['m_수원농수산물시장', 'avgPrice_lag_1'] not in index\""
     ]
    }
   ],
   "source": [
    "# # 모델 학습 및 평가 실행\n",
    "print(\"\\n--- 모델 학습 및 평가 ---\")\n",
    "model = train_xgb_model(data, target_col='avgPrice')\n",
    "\n",
    "# 피처 조합 탐색 실행\n",
    "print(\"\\n--- 피처 조합 탐색 ---\")\n",
    "feature_selection_experiment(data, target_col='avgPrice')"
   ]
  },
  {
   "cell_type": "code",
   "execution_count": 27,
   "metadata": {},
   "outputs": [
    {
     "name": "stdout",
     "output_type": "stream",
     "text": [
      "[4]\n"
     ]
    }
   ],
   "source": [
    "a = [1,2,3]\n",
    "b = [1,2,3,4]\n",
    "print(list(set(b)-set(a)))"
   ]
  }
 ],
 "metadata": {
  "kernelspec": {
   "display_name": "env311_conda",
   "language": "python",
   "name": "python3"
  },
  "language_info": {
   "codemirror_mode": {
    "name": "ipython",
    "version": 3
   },
   "file_extension": ".py",
   "mimetype": "text/x-python",
   "name": "python",
   "nbconvert_exporter": "python",
   "pygments_lexer": "ipython3",
   "version": "3.11.11"
  }
 },
 "nbformat": 4,
 "nbformat_minor": 2
}
